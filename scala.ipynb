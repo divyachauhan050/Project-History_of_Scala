{
 "cells": [
  {
   "cell_type": "markdown",
   "id": "49f88f70",
   "metadata": {
    "dc": {
     "key": "5"
    },
    "run_control": {
     "frozen": true
    },
    "tags": [
     "context"
    ]
   },
   "source": [
    "## 1. Scala's real-world project repository data\n",
    "<p>With almost 30k commits and a history spanning over ten years, Scala is a mature programming language. It is a general-purpose programming language that has recently become another prominent language for data scientists.</p>\n",
    "<p>Scala is also an open source project. Open source projects have the advantage that their entire development histories -- who made changes, what was changed, code reviews, etc. -- are publicly available. </p>\n",
    "<p>We're going to read in, clean up, and visualize the real world project repository of Scala that spans data from a version control system (Git) as well as a project hosting site (GitHub). We will find out who has had the most influence on its development and who are the experts.</p>\n",
    "<p>The dataset we will use, which has been previously mined and extracted from GitHub, is comprised of three files:</p>\n",
    "<ol>\n",
    "<li><code>pulls_2011-2013.csv</code> contains the basic information about the pull requests, and spans from the end of 2011 up to (but not including) 2014.</li>\n",
    "<li><code>pulls_2014-2018.csv</code> contains identical information, and spans from 2014 up to 2018.</li>\n",
    "<li><code>pull_files.csv</code> contains the files that were modified by each pull request.</li>\n",
    "</ol>"
   ]
  },
  {
   "cell_type": "code",
   "execution_count": 1,
   "id": "3b829cfc",
   "metadata": {
    "dc": {
     "key": "5"
    },
    "tags": [
     "sample_code"
    ]
   },
   "outputs": [
    {
     "name": "stdout",
     "output_type": "stream",
     "text": [
      "           pid         user                  date\n",
      "0     11166973  VladimirNik  2013-12-31T23:10:55Z\n",
      "1     11161892      Ichoran  2013-12-31T16:55:47Z\n",
      "2     11153894      Ichoran  2013-12-31T02:41:13Z\n",
      "3     11151917      rklaehn  2013-12-30T23:45:47Z\n",
      "4     11131244        qerub  2013-12-29T17:21:01Z\n",
      "...        ...          ...                   ...\n",
      "3291    547941      xeno-by  2011-12-01T16:16:42Z\n",
      "3292    547354      szeiger  2011-12-01T14:03:23Z\n",
      "3293    547150      odersky  2011-12-01T12:39:40Z\n",
      "3294    547003      robinst  2011-12-01T11:42:26Z\n",
      "3295    546847      odersky  2011-12-01T10:41:01Z\n",
      "\n",
      "[3296 rows x 3 columns]\n",
      "            pid       user                  date\n",
      "0     163314316     hrhino  2018-01-16T23:29:16Z\n",
      "1     163061502   joroKr21  2018-01-15T23:44:52Z\n",
      "2     163057333  mkeskells  2018-01-15T23:05:06Z\n",
      "3     162985594      lrytz  2018-01-15T15:52:39Z\n",
      "4     162838837  zuvizudar  2018-01-14T19:16:16Z\n",
      "...         ...        ...                   ...\n",
      "2899   11244241     folone  2014-01-06T09:07:34Z\n",
      "2900   11240674   clhodapp  2014-01-06T03:52:23Z\n",
      "2901   11234757    xeno-by  2014-01-05T12:23:24Z\n",
      "2902   11231462    rklaehn  2014-01-04T22:42:02Z\n",
      "2903   11188295    rklaehn  2014-01-02T18:55:33Z\n",
      "\n",
      "[2904 rows x 3 columns]\n",
      "             pid                                               file\n",
      "0      163314316                    test/files/pos/t5638/Among.java\n",
      "1      163314316                   test/files/pos/t5638/Usage.scala\n",
      "2      163314316                         test/files/pos/t9291.scala\n",
      "3      163314316                         test/files/run/t8348.check\n",
      "4      163314316              test/files/run/t8348/TableColumn.java\n",
      "...          ...                                                ...\n",
      "85583     547354                       test/files/run/bitsets.check\n",
      "85584     547354                       test/files/run/bitsets.scala\n",
      "85585     547150  src/compiler/scala/tools/nsc/transform/LiftCod...\n",
      "85586     547150          src/library/scala/reflect/api/Trees.scala\n",
      "85587     547003                                         README.rst\n",
      "\n",
      "[85588 rows x 2 columns]\n"
     ]
    }
   ],
   "source": [
    "# Importing pandas\n",
    "# ... YOUR CODE FOR TASK 1 ...\n",
    "import pandas as pd\n",
    "# Loading in the data\n",
    "pulls_one = pd.read_csv('Datasets/pulls_2011-2013.csv')\n",
    "pulls_two = pd.read_csv('Datasets/pulls_2014-2018.csv')\n",
    "pull_files = pd.read_csv('Datasets/pull_files.csv')\n",
    "\n",
    "print(pulls_one)\n",
    "print(pulls_two)\n",
    "print(pull_files)"
   ]
  },
  {
   "cell_type": "markdown",
   "id": "50346a21",
   "metadata": {
    "dc": {
     "key": "12"
    },
    "run_control": {
     "frozen": true
    },
    "tags": [
     "context"
    ]
   },
   "source": [
    "## 2. Preparing and cleaning the data\n",
    "<p>First, we will need to combine the data from the two separate pull DataFrames. </p>\n",
    "<p>Next, the raw data extracted from GitHub contains dates in the ISO8601 format. However, <code>pandas</code> imports them as regular strings. To make our analysis easier, we need to convert the strings into Python's <code>DateTime</code> objects. <code>DateTime</code> objects have the important property that they can be compared and sorted.</p>\n",
    "<p>The pull request times are all in UTC (also known as Coordinated Universal Time). The commit times, however, are in the local time of the author with time zone information (number of hours difference from UTC). To make comparisons easy, we should convert all times to UTC.</p>"
   ]
  },
  {
   "cell_type": "code",
   "execution_count": 2,
   "id": "fb9dbee6",
   "metadata": {
    "dc": {
     "key": "12"
    },
    "tags": [
     "sample_code"
    ]
   },
   "outputs": [
    {
     "name": "stdout",
     "output_type": "stream",
     "text": [
      "           pid         user                      date\n",
      "0     11166973  VladimirNik 2013-12-31 23:10:55+00:00\n",
      "1     11161892      Ichoran 2013-12-31 16:55:47+00:00\n",
      "2     11153894      Ichoran 2013-12-31 02:41:13+00:00\n",
      "3     11151917      rklaehn 2013-12-30 23:45:47+00:00\n",
      "4     11131244        qerub 2013-12-29 17:21:01+00:00\n",
      "...        ...          ...                       ...\n",
      "2899  11244241       folone 2014-01-06 09:07:34+00:00\n",
      "2900  11240674     clhodapp 2014-01-06 03:52:23+00:00\n",
      "2901  11234757      xeno-by 2014-01-05 12:23:24+00:00\n",
      "2902  11231462      rklaehn 2014-01-04 22:42:02+00:00\n",
      "2903  11188295      rklaehn 2014-01-02 18:55:33+00:00\n",
      "\n",
      "[6200 rows x 3 columns]\n"
     ]
    },
    {
     "name": "stderr",
     "output_type": "stream",
     "text": [
      "C:\\Users\\Divya\\AppData\\Local\\Temp\\ipykernel_3876\\1680719591.py:2: FutureWarning: The frame.append method is deprecated and will be removed from pandas in a future version. Use pandas.concat instead.\n",
      "  pulls = pulls_one.append(pulls_two)\n"
     ]
    }
   ],
   "source": [
    "# Append pulls_one to pulls_two\n",
    "pulls = pulls_one.append(pulls_two)\n",
    "\n",
    "# Convert the date for the pulls object\n",
    "pulls['date'] = pd.to_datetime(pulls['date'], utc = True)\n",
    "print(pulls)"
   ]
  },
  {
   "cell_type": "markdown",
   "id": "db7b6c74",
   "metadata": {
    "dc": {
     "key": "19"
    },
    "run_control": {
     "frozen": true
    },
    "tags": [
     "context"
    ]
   },
   "source": [
    "## 3. Merging the DataFrames\n",
    "<p>The data extracted comes in two separate files. Merging the two DataFrames will make it easier for us to analyze the data in the future tasks.</p>"
   ]
  },
  {
   "cell_type": "code",
   "execution_count": 3,
   "id": "21707827",
   "metadata": {
    "dc": {
     "key": "19"
    },
    "tags": [
     "sample_code"
    ]
   },
   "outputs": [
    {
     "name": "stdout",
     "output_type": "stream",
     "text": [
      "            pid         user                      date  \\\n",
      "0      11166973  VladimirNik 2013-12-31 23:10:55+00:00   \n",
      "1      11166973  VladimirNik 2013-12-31 23:10:55+00:00   \n",
      "2      11166973  VladimirNik 2013-12-31 23:10:55+00:00   \n",
      "3      11166973  VladimirNik 2013-12-31 23:10:55+00:00   \n",
      "4      11161892      Ichoran 2013-12-31 16:55:47+00:00   \n",
      "...         ...          ...                       ...   \n",
      "85583  11231462      rklaehn 2014-01-04 22:42:02+00:00   \n",
      "85584  11188295      rklaehn 2014-01-02 18:55:33+00:00   \n",
      "85585  11188295      rklaehn 2014-01-02 18:55:33+00:00   \n",
      "85586  11188295      rklaehn 2014-01-02 18:55:33+00:00   \n",
      "85587  11188295      rklaehn 2014-01-02 18:55:33+00:00   \n",
      "\n",
      "                                                    file  \n",
      "0           src/reflect/scala/reflect/api/Printers.scala  \n",
      "1      src/reflect/scala/reflect/internal/Printers.scala  \n",
      "2                        test/files/run/reify_ann3.check  \n",
      "3      test/junit/scala/reflect/internal/PrintersTest...  \n",
      "4      src/library/scala/collection/mutable/ArrayOps....  \n",
      "...                                                  ...  \n",
      "85583  src/library/scala/collection/immutable/HashSet...  \n",
      "85584  src/library/scala/collection/immutable/HashSet...  \n",
      "85585                        test/files/run/t6253a.scala  \n",
      "85586                        test/files/run/t6253b.scala  \n",
      "85587                        test/files/run/t6253c.scala  \n",
      "\n",
      "[85588 rows x 4 columns]\n"
     ]
    }
   ],
   "source": [
    "# Merge the two DataFrames\n",
    "data = pulls.merge(pull_files, on = 'pid')\n",
    "print(data)"
   ]
  },
  {
   "cell_type": "markdown",
   "id": "298a7baa",
   "metadata": {
    "dc": {
     "key": "26"
    },
    "run_control": {
     "frozen": true
    },
    "tags": [
     "context"
    ]
   },
   "source": [
    "## 4. Is the project still actively maintained?\n",
    "<p>The activity in an open source project is not very consistent. Some projects might be active for many years after the initial release, while others can slowly taper out into oblivion. Before committing to contributing to a project, it is important to understand the state of the project. Is development going steadily, or is there a drop? Has the project been abandoned altogether?</p>\n",
    "<p>The data used in this project was collected in January of 2018. We are interested in the evolution of the number of contributions up to that date.</p>\n",
    "<p>For Scala, we will do this by plotting a chart of the project's activity. We will calculate the number of pull requests submitted each (calendar) month during the project's lifetime. We will then plot these numbers to see the trend of contributions.</p>\n",
    "<ul>\n",
    "<li><p>A helpful reminder of how to access various components of a date can be found in <a href=\"https://campus.datacamp.com/courses/data-manipulation-with-pandas/slicing-and-indexing?ex=12\">this exercise of Data Manipulation with pandas</a></p></li>\n",
    "<li><p>Additionally, recall that you can group by multiple variables by passing a list to <code>.groupby()</code>. This video from <a href=\"https://campus.datacamp.com/courses/data-manipulation-with-pandas/aggregating-dataframes?ex=9\">Data Manipulation with pandas</a> should help!</p></li>\n",
    "</ul>"
   ]
  },
  {
   "cell_type": "code",
   "execution_count": 4,
   "id": "e391920d",
   "metadata": {
    "dc": {
     "key": "26"
    },
    "tags": [
     "sample_code"
    ]
   },
   "outputs": [
    {
     "name": "stdout",
     "output_type": "stream",
     "text": [
      "month  year\n",
      "1      2012     489\n",
      "       2013    3717\n",
      "       2014    1140\n",
      "       2015     732\n",
      "       2016     640\n",
      "               ... \n",
      "12     2013    1692\n",
      "       2014    1001\n",
      "       2015     616\n",
      "       2016     468\n",
      "       2017     224\n",
      "Name: pid, Length: 74, dtype: int64\n"
     ]
    },
    {
     "data": {
      "text/plain": [
       "<AxesSubplot:xlabel='month,year'>"
      ]
     },
     "execution_count": 4,
     "metadata": {},
     "output_type": "execute_result"
    },
    {
     "data": {
      "image/png": "[encoded data removed]",
      "text/plain": [
       "<Figure size 864x288 with 1 Axes>"
      ]
     },
     "metadata": {
      "needs_background": "light"
     },
     "output_type": "display_data"
    }
   ],
   "source": [
    "%matplotlib inline\n",
    "\n",
    "# Create a column that will store the month\n",
    "data['month'] = data['date'].dt.month\n",
    "\n",
    "# Create a column that will store the year\n",
    "data['year'] = data['date'].dt.year\n",
    "\n",
    "# Group by the month and year and count the pull requests\n",
    "counts = data.groupby(['month', 'year'])['pid'].count()\n",
    "print(counts)\n",
    "# Plot the results\n",
    "counts.plot(kind='bar', figsize = (12,4))"
   ]
  },
  {
   "cell_type": "markdown",
   "id": "cda0e790",
   "metadata": {
    "dc": {
     "key": "33"
    },
    "run_control": {
     "frozen": true
    },
    "tags": [
     "context"
    ]
   },
   "source": [
    "## 5. Is there camaraderie in the project?\n",
    "<p>The organizational structure varies from one project to another, and it can influence your success as a contributor. A project that has a very small community might not be the best one to start working on. The small community might indicate a high barrier of entry. This can be caused by several factors, including a community that is reluctant to accept pull requests from \"outsiders,\" that the code base is hard to work with, etc. However, a large community can serve as an indicator that the project is regularly accepting pull requests from new contributors. Such a project would be a good place to start.</p>\n",
    "<p>In order to evaluate the dynamics of the community, we will plot a histogram of the number of pull requests submitted by each user. A distribution that shows that there are few people that only contribute a small number of pull requests can be used as in indicator that the project is not welcoming of new contributors. </p>"
   ]
  },
  {
   "cell_type": "code",
   "execution_count": 5,
   "id": "fb2679e2",
   "metadata": {
    "dc": {
     "key": "33"
    },
    "tags": [
     "sample_code"
    ]
   },
   "outputs": [
    {
     "data": {
      "text/plain": [
       "(array([454.,   3.,   0.,   2.,   0.,   1.,   1.,   0.,   1.,   2.]),\n",
       " array([1.00000e+00, 1.26580e+03, 2.53060e+03, 3.79540e+03, 5.06020e+03,\n",
       "        6.32500e+03, 7.58980e+03, 8.85460e+03, 1.01194e+04, 1.13842e+04,\n",
       "        1.26490e+04]),\n",
       " <BarContainer object of 10 artists>)"
      ]
     },
     "execution_count": 5,
     "metadata": {},
     "output_type": "execute_result"
    },
    {
     "data": {
      "image/png": "[encoded data removed]",
      "text/plain": [
       "<Figure size 432x288 with 1 Axes>"
      ]
     },
     "metadata": {
      "needs_background": "light"
     },
     "output_type": "display_data"
    }
   ],
   "source": [
    "# Required for matplotlib\n",
    "import matplotlib.pyplot as plt\n",
    "\n",
    "# Group by the submitter\n",
    "by_user = data.groupby('user')['pid'].count()\n",
    "\n",
    "# Plot the histogram\n",
    "plt.hist(by_user)"
   ]
  },
  {
   "cell_type": "markdown",
   "id": "151f2cb0",
   "metadata": {
    "dc": {
     "key": "40"
    },
    "run_control": {
     "frozen": true
    },
    "tags": [
     "context"
    ]
   },
   "source": [
    "## 6. What files were changed in the last ten pull requests?\n",
    "<p>Choosing the right place to make a contribution is as important as choosing the project to contribute to. Some parts of the code might be stable, some might be dead. Contributing there might not have the most impact. Therefore it is important to understand the parts of the system that have been recently changed. This allows us to pinpoint the \"hot\" areas of the code where most of the activity is happening. Focusing on those parts might not the most effective use of our times.</p>"
   ]
  },
  {
   "cell_type": "code",
   "execution_count": 6,
   "id": "5a885a91",
   "metadata": {
    "dc": {
     "key": "40"
    },
    "tags": [
     "sample_code"
    ]
   },
   "outputs": [
    {
     "name": "stdout",
     "output_type": "stream",
     "text": [
      "         pid         user                      date\n",
      "0  163314316       hrhino 2018-01-16 23:29:16+00:00\n",
      "1  163061502     joroKr21 2018-01-15 23:44:52+00:00\n",
      "2  163057333    mkeskells 2018-01-15 23:05:06+00:00\n",
      "3  162985594        lrytz 2018-01-15 15:52:39+00:00\n",
      "4  162838837    zuvizudar 2018-01-14 19:16:16+00:00\n",
      "5  162765232  howtonotwin 2018-01-13 04:37:17+00:00\n",
      "6  162643301       hrhino 2018-01-12 14:29:49+00:00\n",
      "7  162256029    mkeskells 2018-01-10 23:20:03+00:00\n",
      "8  162197834    SethTisue 2018-01-10 18:31:25+00:00\n",
      "9  162011899     joroKr21 2018-01-10 00:45:57+00:00\n",
      "          pid         user                      date  \\\n",
      "0   163314316       hrhino 2018-01-16 23:29:16+00:00   \n",
      "1   163314316       hrhino 2018-01-16 23:29:16+00:00   \n",
      "2   163314316       hrhino 2018-01-16 23:29:16+00:00   \n",
      "3   163314316       hrhino 2018-01-16 23:29:16+00:00   \n",
      "4   163314316       hrhino 2018-01-16 23:29:16+00:00   \n",
      "5   163314316       hrhino 2018-01-16 23:29:16+00:00   \n",
      "6   163314316       hrhino 2018-01-16 23:29:16+00:00   \n",
      "7   163061502     joroKr21 2018-01-15 23:44:52+00:00   \n",
      "8   163057333    mkeskells 2018-01-15 23:05:06+00:00   \n",
      "9   163057333    mkeskells 2018-01-15 23:05:06+00:00   \n",
      "10  162985594        lrytz 2018-01-15 15:52:39+00:00   \n",
      "11  162985594        lrytz 2018-01-15 15:52:39+00:00   \n",
      "12  162985594        lrytz 2018-01-15 15:52:39+00:00   \n",
      "13  162838837    zuvizudar 2018-01-14 19:16:16+00:00   \n",
      "14  162765232  howtonotwin 2018-01-13 04:37:17+00:00   \n",
      "15  162765232  howtonotwin 2018-01-13 04:37:17+00:00   \n",
      "16  162765232  howtonotwin 2018-01-13 04:37:17+00:00   \n",
      "17  162765232  howtonotwin 2018-01-13 04:37:17+00:00   \n",
      "18  162765232  howtonotwin 2018-01-13 04:37:17+00:00   \n",
      "19  162643301       hrhino 2018-01-12 14:29:49+00:00   \n",
      "20  162643301       hrhino 2018-01-12 14:29:49+00:00   \n",
      "21  162643301       hrhino 2018-01-12 14:29:49+00:00   \n",
      "22  162643301       hrhino 2018-01-12 14:29:49+00:00   \n",
      "23  162256029    mkeskells 2018-01-10 23:20:03+00:00   \n",
      "24  162256029    mkeskells 2018-01-10 23:20:03+00:00   \n",
      "25  162197834    SethTisue 2018-01-10 18:31:25+00:00   \n",
      "26  162197834    SethTisue 2018-01-10 18:31:25+00:00   \n",
      "27  162197834    SethTisue 2018-01-10 18:31:25+00:00   \n",
      "28  162197834    SethTisue 2018-01-10 18:31:25+00:00   \n",
      "29  162197834    SethTisue 2018-01-10 18:31:25+00:00   \n",
      "30  162197834    SethTisue 2018-01-10 18:31:25+00:00   \n",
      "31  162197834    SethTisue 2018-01-10 18:31:25+00:00   \n",
      "32  162011899     joroKr21 2018-01-10 00:45:57+00:00   \n",
      "33  162011899     joroKr21 2018-01-10 00:45:57+00:00   \n",
      "\n",
      "                                                 file  \n",
      "0                     test/files/pos/t5638/Among.java  \n",
      "1                    test/files/pos/t5638/Usage.scala  \n",
      "2                          test/files/pos/t9291.scala  \n",
      "3                          test/files/run/t8348.check  \n",
      "4               test/files/run/t8348/TableColumn.java  \n",
      "5           test/files/run/t8348/TableColumnImpl.java  \n",
      "6                     test/files/run/t8348/Test.scala  \n",
      "7             src/library/scala/concurrent/Lock.scala  \n",
      "8   src/compiler/scala/tools/nsc/profile/AsyncHelp...  \n",
      "9   src/compiler/scala/tools/nsc/profile/Profiler....  \n",
      "10  src/compiler/scala/tools/nsc/backend/jvm/BCode...  \n",
      "11  src/compiler/scala/tools/nsc/symtab/classfile/...  \n",
      "12  src/reflect/scala/reflect/internal/pickling/By...  \n",
      "13  src/compiler/scala/reflect/reify/phases/Calcul...  \n",
      "14                     src/library/scala/Predef.scala  \n",
      "15                test/files/neg/leibniz-liskov.check  \n",
      "16                test/files/neg/leibniz-liskov.scala  \n",
      "17                test/files/pos/leibniz-liskov.scala  \n",
      "18                test/files/pos/leibniz_liskov.scala  \n",
      "19  src/compiler/scala/tools/nsc/typechecker/Conte...  \n",
      "20          test/files/pos/parallel-classloader.scala  \n",
      "21               test/files/pos/t10568/Converter.java  \n",
      "22                   test/files/pos/t10568/Impl.scala  \n",
      "23  src/compiler/scala/tools/nsc/backend/jvm/PostP...  \n",
      "24  src/compiler/scala/tools/nsc/backend/jvm/analy...  \n",
      "25                                            LICENSE  \n",
      "26                                     doc/LICENSE.md  \n",
      "27                                    doc/License.rtf  \n",
      "28                          project/VersionUtil.scala  \n",
      "29            src/library/scala/util/Properties.scala  \n",
      "30  src/scaladoc/scala/tools/nsc/doc/html/page/Ent...  \n",
      "31                      src/scalap/decoder.properties  \n",
      "32  src/reflect/scala/reflect/internal/tpe/GlbLubs...  \n",
      "33                        test/files/pos/t10686.scala  \n",
      "{'src/compiler/scala/tools/nsc/backend/jvm/PostProcessor.scala', 'doc/LICENSE.md', 'doc/License.rtf', 'test/files/run/t8348/TableColumnImpl.java', 'test/files/pos/t10568/Impl.scala', 'src/compiler/scala/tools/nsc/typechecker/Contexts.scala', 'src/compiler/scala/tools/nsc/backend/jvm/BCodeHelpers.scala', 'test/files/run/t8348/TableColumn.java', 'test/files/pos/t9291.scala', 'test/files/pos/t5638/Usage.scala', 'test/files/pos/leibniz-liskov.scala', 'src/reflect/scala/reflect/internal/tpe/GlbLubs.scala', 'src/compiler/scala/reflect/reify/phases/Calculate.scala', 'src/reflect/scala/reflect/internal/pickling/ByteCodecs.scala', 'test/files/run/t8348/Test.scala', 'test/files/pos/leibniz_liskov.scala', 'src/scaladoc/scala/tools/nsc/doc/html/page/Entity.scala', 'src/scalap/decoder.properties', 'test/files/neg/leibniz-liskov.scala', 'src/library/scala/Predef.scala', 'project/VersionUtil.scala', 'test/files/pos/t5638/Among.java', 'test/files/pos/t10568/Converter.java', 'src/compiler/scala/tools/nsc/symtab/classfile/ClassfileParser.scala', 'src/library/scala/util/Properties.scala', 'src/library/scala/concurrent/Lock.scala', 'test/files/pos/t10686.scala', 'src/compiler/scala/tools/nsc/profile/Profiler.scala', 'src/compiler/scala/tools/nsc/profile/AsyncHelper.scala', 'LICENSE', 'test/files/neg/leibniz-liskov.check', 'test/files/run/t8348.check', 'src/compiler/scala/tools/nsc/backend/jvm/analysis/BackendUtils.scala', 'test/files/pos/parallel-classloader.scala'}\n"
     ]
    }
   ],
   "source": [
    "# Identify the last 10 pull requests\n",
    "last_10 = pulls.nlargest(10, 'date')\n",
    "print(last_10)\n",
    "\n",
    "# Join the two data sets\n",
    "joined_pr = last_10.merge(pull_files, on = 'pid')\n",
    "print(joined_pr)\n",
    "\n",
    "# Identify the unique files\n",
    "files = set(joined_pr['file'].unique())\n",
    "\n",
    "# Print the results\n",
    "print(files)"
   ]
  },
  {
   "cell_type": "markdown",
   "id": "37ccc01f",
   "metadata": {
    "dc": {
     "key": "47"
    },
    "run_control": {
     "frozen": true
    },
    "tags": [
     "context"
    ]
   },
   "source": [
    "## 7. Who made the most pull requests to a given file?\n",
    "<p>When contributing to a project, we might need some guidance. We might find ourselves needing some information regarding the codebase. It is important direct any questions to the right person. Contributors to open source projects generally have other day jobs, so their time is limited. It is important to address our questions to the right people. One way to identify the right target for our inquiries is by using their contribution history.</p>\n",
    "<p>We identified <code>src/compiler/scala/reflect/reify/phases/Calculate.scala</code> as being recently changed. We are interested in the top 3 developers who changed that file. Those developers are the ones most likely to have the best understanding of the code.</p>"
   ]
  },
  {
   "cell_type": "code",
   "execution_count": 7,
   "id": "148893fb",
   "metadata": {
    "dc": {
     "key": "47"
    },
    "tags": [
     "sample_code"
    ]
   },
   "outputs": [
    {
     "name": "stdout",
     "output_type": "stream",
     "text": [
      "             pid                                               file\n",
      "13     162838837  src/compiler/scala/reflect/reify/phases/Calcul...\n",
      "26951   22845163  src/compiler/scala/reflect/reify/phases/Calcul...\n",
      "32753   12102550  src/compiler/scala/reflect/reify/phases/Calcul...\n",
      "35420   10587633  src/compiler/scala/reflect/reify/phases/Calcul...\n",
      "46700    5320191  src/compiler/scala/reflect/reify/phases/Calcul...\n",
      "47009    5291974  src/compiler/scala/reflect/reify/phases/Calcul...\n",
      "47567    5050360  src/compiler/scala/reflect/reify/phases/Calcul...\n",
      "47965    5026775  src/compiler/scala/reflect/reify/phases/Calcul...\n",
      "49156    4786005  src/compiler/scala/reflect/reify/phases/Calcul...\n",
      "51313    4295399  src/compiler/scala/reflect/reify/phases/Calcul...\n",
      "52527    4019878  src/compiler/scala/reflect/reify/phases/Calcul...\n",
      "53360    3918789  src/compiler/scala/reflect/reify/phases/Calcul...\n",
      "54020    3854688  src/compiler/scala/reflect/reify/phases/Calcul...\n",
      "58854    3290864  src/compiler/scala/reflect/reify/phases/Calcul...\n",
      "61260    2919907  src/compiler/scala/reflect/reify/phases/Calcul...\n",
      "63137    2721711  src/compiler/scala/reflect/reify/phases/Calcul...\n",
      "69470    2089264  src/compiler/scala/reflect/reify/phases/Calcul...\n",
      "69684    2072662  src/compiler/scala/reflect/reify/phases/Calcul...\n",
      "69794    2071228  src/compiler/scala/reflect/reify/phases/Calcul...\n",
      "71046    1984445  src/compiler/scala/reflect/reify/phases/Calcul...\n",
      "76590    1522783  src/compiler/scala/reflect/reify/phases/Calcul...\n",
      "76898    1522613  src/compiler/scala/reflect/reify/phases/Calcul...\n",
      "77288    1482038  src/compiler/scala/reflect/reify/phases/Calcul...\n",
      "77621    1482035  src/compiler/scala/reflect/reify/phases/Calcul...\n",
      "77937    1480230  src/compiler/scala/reflect/reify/phases/Calcul...\n",
      "80272    1210959  src/compiler/scala/reflect/reify/phases/Calcul...\n",
      "80975    1164069  src/compiler/scala/reflect/reify/phases/Calcul...\n",
      "81275    1163831  src/compiler/scala/reflect/reify/phases/Calcul...\n",
      "81888    1150233  src/compiler/scala/reflect/reify/phases/Calcul...\n",
      "82202    1148013  src/compiler/scala/reflect/reify/phases/Calcul...\n",
      "['xeno-by', 'retronym', 'soc']\n"
     ]
    }
   ],
   "source": [
    "# This is the file we are interested in:\n",
    "file = 'src/compiler/scala/reflect/reify/phases/Calculate.scala'\n",
    "\n",
    "# Identify the commits that changed the file\n",
    "file_pr = pull_files[pull_files['file'] == file]\n",
    "print(file_pr)\n",
    "\n",
    "# Count the number of changes made by each developer\n",
    "file_pr = file_pr.merge(pulls[['pid', 'user']], on = 'pid')\n",
    "\n",
    "author_counts = file_pr.groupby('user').count()\n",
    "\n",
    "# Print the top 3 developers\n",
    "print(list(author_counts.nlargest(3, 'pid').index))"
   ]
  },
  {
   "cell_type": "markdown",
   "id": "54ae8179",
   "metadata": {
    "dc": {
     "key": "54"
    },
    "run_control": {
     "frozen": true
    },
    "tags": [
     "context"
    ]
   },
   "source": [
    "## 8. Who made the last ten pull requests on a given file?\n",
    "<p>Open source projects suffer from fluctuating membership. This makes the problem of finding the right person more challenging: the person has to be knowledgeable <em>and</em> still be involved in the project. A person that contributed a lot in the past might no longer be available (or willing) to help. To get a better understanding, we need to investigate the more recent history of that particular part of the system. </p>\n",
    "<p>Like in the previous task, we will look at the history of  <code>src/compiler/scala/reflect/reify/phases/Calculate.scala</code>.</p>"
   ]
  },
  {
   "cell_type": "code",
   "execution_count": 8,
   "id": "4a8af4e3",
   "metadata": {
    "dc": {
     "key": "54"
    },
    "tags": [
     "sample_code"
    ]
   },
   "outputs": [
    {
     "name": "stdout",
     "output_type": "stream",
     "text": [
      "          pid                                               file  \\\n",
      "0   162838837  src/compiler/scala/reflect/reify/phases/Calcul...   \n",
      "1    22845163  src/compiler/scala/reflect/reify/phases/Calcul...   \n",
      "2    12102550  src/compiler/scala/reflect/reify/phases/Calcul...   \n",
      "3    10587633  src/compiler/scala/reflect/reify/phases/Calcul...   \n",
      "4     5320191  src/compiler/scala/reflect/reify/phases/Calcul...   \n",
      "5     5291974  src/compiler/scala/reflect/reify/phases/Calcul...   \n",
      "6     5050360  src/compiler/scala/reflect/reify/phases/Calcul...   \n",
      "7     5026775  src/compiler/scala/reflect/reify/phases/Calcul...   \n",
      "8     4786005  src/compiler/scala/reflect/reify/phases/Calcul...   \n",
      "9     4295399  src/compiler/scala/reflect/reify/phases/Calcul...   \n",
      "10    4019878  src/compiler/scala/reflect/reify/phases/Calcul...   \n",
      "11    3918789  src/compiler/scala/reflect/reify/phases/Calcul...   \n",
      "12    3854688  src/compiler/scala/reflect/reify/phases/Calcul...   \n",
      "13    3290864  src/compiler/scala/reflect/reify/phases/Calcul...   \n",
      "14    2919907  src/compiler/scala/reflect/reify/phases/Calcul...   \n",
      "15    2721711  src/compiler/scala/reflect/reify/phases/Calcul...   \n",
      "16    2089264  src/compiler/scala/reflect/reify/phases/Calcul...   \n",
      "17    2072662  src/compiler/scala/reflect/reify/phases/Calcul...   \n",
      "18    2071228  src/compiler/scala/reflect/reify/phases/Calcul...   \n",
      "19    1984445  src/compiler/scala/reflect/reify/phases/Calcul...   \n",
      "20    1522783  src/compiler/scala/reflect/reify/phases/Calcul...   \n",
      "21    1522613  src/compiler/scala/reflect/reify/phases/Calcul...   \n",
      "22    1482038  src/compiler/scala/reflect/reify/phases/Calcul...   \n",
      "23    1482035  src/compiler/scala/reflect/reify/phases/Calcul...   \n",
      "24    1480230  src/compiler/scala/reflect/reify/phases/Calcul...   \n",
      "25    1210959  src/compiler/scala/reflect/reify/phases/Calcul...   \n",
      "26    1164069  src/compiler/scala/reflect/reify/phases/Calcul...   \n",
      "27    1163831  src/compiler/scala/reflect/reify/phases/Calcul...   \n",
      "28    1150233  src/compiler/scala/reflect/reify/phases/Calcul...   \n",
      "29    1148013  src/compiler/scala/reflect/reify/phases/Calcul...   \n",
      "\n",
      "            user                      date  \n",
      "0      zuvizudar 2018-01-14 19:16:16+00:00  \n",
      "1       retronym 2014-10-16 10:23:42+00:00  \n",
      "2        xeno-by 2014-02-01 01:19:58+00:00  \n",
      "3       retronym 2013-12-06 10:04:43+00:00  \n",
      "4            soc 2013-04-23 15:47:45+00:00  \n",
      "5   bjornregnell 2013-04-22 13:56:06+00:00  \n",
      "6       retronym 2013-04-09 06:13:57+00:00  \n",
      "7       retronym 2013-04-08 07:07:45+00:00  \n",
      "8      starblood 2013-03-25 02:48:48+00:00  \n",
      "9       retronym 2013-02-24 21:43:43+00:00  \n",
      "10           soc 2013-02-06 18:24:21+00:00  \n",
      "11  gkossakowski 2013-01-31 00:43:19+00:00  \n",
      "12        melloc 2013-01-26 22:47:32+00:00  \n",
      "13         densh 2012-12-08 15:18:04+00:00  \n",
      "14         paulp 2012-11-07 21:13:47+00:00  \n",
      "15           soc 2012-10-21 19:58:20+00:00  \n",
      "16         paulp 2012-08-17 16:15:26+00:00  \n",
      "17       xeno-by 2012-08-16 05:39:22+00:00  \n",
      "18       xeno-by 2012-08-15 23:41:59+00:00  \n",
      "19           soc 2012-08-06 18:38:28+00:00  \n",
      "20       xeno-by 2012-06-08 13:43:35+00:00  \n",
      "21       xeno-by 2012-06-08 13:22:10+00:00  \n",
      "22       xeno-by 2012-06-03 18:01:36+00:00  \n",
      "23       xeno-by 2012-06-03 18:00:39+00:00  \n",
      "24       xeno-by 2012-06-02 17:20:02+00:00  \n",
      "25       xeno-by 2012-04-22 22:50:51+00:00  \n",
      "26       odersky 2012-04-14 02:21:49+00:00  \n",
      "27       odersky 2012-04-14 00:40:37+00:00  \n",
      "28       xeno-by 2012-04-12 10:25:43+00:00  \n",
      "29       xeno-by 2012-04-12 00:05:33+00:00  \n",
      "{'retronym', 'starblood', 'soc', 'zuvizudar', 'bjornregnell', 'xeno-by'}\n"
     ]
    }
   ],
   "source": [
    "file = 'src/compiler/scala/reflect/reify/phases/Calculate.scala'\n",
    "\n",
    "# Select the pull requests that changed the target file\n",
    "file_pr = file_pr = pull_files[pull_files['file'] == file]\n",
    "\n",
    "# Merge the obtained results with the pulls DataFrame\n",
    "joined_pr = file_pr.merge(pulls, on = 'pid')\n",
    "print(joined_pr)\n",
    "\n",
    "# Find the users of the last 10 most recent pull requests\n",
    "users_last_10 = set(joined_pr.nlargest(10, 'date')['user'])\n",
    "\n",
    "# Printing the results\n",
    "print(users_last_10)"
   ]
  },
  {
   "cell_type": "markdown",
   "id": "a3bf71b3",
   "metadata": {
    "dc": {
     "key": "61"
    },
    "run_control": {
     "frozen": true
    },
    "tags": [
     "context"
    ]
   },
   "source": [
    "## 9. The pull requests of two special developers\n",
    "<p>Now that we have identified two potential contacts in the projects, we need to find the person who was most involved in the project in recent times. That person is most likely to answer our questions. For each calendar year, we are interested in understanding the number of pull requests the authors submitted. This will give us a high-level image of their contribution trend to the project.</p>"
   ]
  },
  {
   "cell_type": "code",
   "execution_count": 9,
   "id": "12fd808a",
   "metadata": {
    "dc": {
     "key": "61"
    },
    "tags": [
     "sample_code"
    ]
   },
   "outputs": [
    {
     "name": "stdout",
     "output_type": "stream",
     "text": [
      "       user  date  pid\n",
      "0       soc  2011   12\n",
      "1       soc  2012   44\n",
      "2       soc  2013  117\n",
      "3       soc  2014   20\n",
      "4       soc  2015   24\n",
      "5       soc  2016   21\n",
      "6   xeno-by  2011   20\n",
      "7   xeno-by  2012  271\n",
      "8   xeno-by  2013  123\n",
      "9   xeno-by  2014   60\n",
      "10  xeno-by  2015    3\n",
      "user  soc  xeno-by\n",
      "date              \n",
      "2011   12       20\n",
      "2012   44      271\n",
      "2013  117      123\n",
      "2014   20       60\n",
      "2015   24        3\n",
      "2016   21        0\n"
     ]
    },
    {
     "data": {
      "text/plain": [
       "<AxesSubplot:xlabel='date'>"
      ]
     },
     "execution_count": 9,
     "metadata": {},
     "output_type": "execute_result"
    },
    {
     "data": {
      "image/png": "[encoded data removed]",
      "text/plain": [
       "<Figure size 432x288 with 1 Axes>"
      ]
     },
     "metadata": {
      "needs_background": "light"
     },
     "output_type": "display_data"
    }
   ],
   "source": [
    "%matplotlib inline\n",
    "\n",
    "# The developers we are interested in\n",
    "authors = ['xeno-by', 'soc']\n",
    "\n",
    "# Get all the developers' pull requests\n",
    "by_author = pulls[pulls['user'].isin(authors)]\n",
    "\n",
    "# Count the number of pull requests submitted each year\n",
    "counts = by_author.groupby([by_author['user'], by_author['date'].dt.year]).agg({'pid': 'count'}).reset_index()\n",
    "print(counts)\n",
    "\n",
    "# Convert the table to a wide format\n",
    "counts_wide = counts.pivot_table(index='date', columns='user', values='pid', fill_value=0)\n",
    "print(counts_wide)\n",
    "\n",
    "# Plot the results\n",
    "counts_wide.plot(kind='bar')"
   ]
  },
  {
   "cell_type": "markdown",
   "id": "95f24b6a",
   "metadata": {
    "dc": {
     "key": "68"
    },
    "run_control": {
     "frozen": true
    },
    "tags": [
     "context"
    ]
   },
   "source": [
    "## 10. Visualizing the contributions of each developer\n",
    "<p>As mentioned before, it is important to make a distinction between the global expertise and contribution levels and the contribution levels at a more granular level (file, submodule, etc.) In our case, we want to see which of our two developers of interest have the most experience with the code in a given file. We will measure experience by the number of pull requests submitted that affect that file and how recent those pull requests were submitted.</p>"
   ]
  },
  {
   "cell_type": "code",
   "execution_count": 10,
   "id": "87f8f732",
   "metadata": {
    "dc": {
     "key": "68"
    },
    "tags": [
     "sample_code"
    ]
   },
   "outputs": [
    {
     "name": "stdout",
     "output_type": "stream",
     "text": [
      "            pid     user                      date  \\\n",
      "25     11126653  xeno-by 2013-12-28 19:39:23+00:00   \n",
      "26     11126653  xeno-by 2013-12-28 19:39:23+00:00   \n",
      "31     11121557  xeno-by 2013-12-27 23:50:56+00:00   \n",
      "32     11121557  xeno-by 2013-12-27 23:50:56+00:00   \n",
      "33     11121557  xeno-by 2013-12-27 23:50:56+00:00   \n",
      "...         ...      ...                       ...   \n",
      "85530  11289742  xeno-by 2014-01-07 16:14:56+00:00   \n",
      "85531  11289742  xeno-by 2014-01-07 16:14:56+00:00   \n",
      "85532  11289742  xeno-by 2014-01-07 16:14:56+00:00   \n",
      "85533  11289742  xeno-by 2014-01-07 16:14:56+00:00   \n",
      "85581  11234757  xeno-by 2014-01-05 12:23:24+00:00   \n",
      "\n",
      "                                                    file  month  year  \n",
      "25      src/reflect/scala/reflect/internal/Mirrors.scala     12  2013  \n",
      "26     test/junit/scala/reflect/internal/MirrorsTest....     12  2013  \n",
      "31                           test/files/neg/t8104a.check     12  2013  \n",
      "32                  test/files/neg/t8104a/Macros_1.scala     12  2013  \n",
      "33                    test/files/neg/t8104a/Test_2.scala     12  2013  \n",
      "...                                                  ...    ...   ...  \n",
      "85530  src/reflect/scala/reflect/internal/Importers.s...      1  2014  \n",
      "85531     src/reflect/scala/reflect/internal/Trees.scala      1  2014  \n",
      "85532  src/reflect/scala/reflect/internal/pickling/Un...      1  2014  \n",
      "85533  test/files/scalacheck/quasiquotes/ArbitraryTre...      1  2014  \n",
      "85581          src/reflect/scala/reflect/api/Trees.scala      1  2014  \n",
      "\n",
      "[16999 rows x 6 columns]\n",
      "      user  date  pid\n",
      "0      soc  2012    2\n",
      "1      soc  2013    2\n",
      "2  xeno-by  2012   10\n",
      "3  xeno-by  2014    1\n",
      "user  soc  xeno-by\n",
      "date              \n",
      "2012    2       10\n",
      "2013    2        0\n",
      "2014    0        1\n"
     ]
    },
    {
     "data": {
      "text/plain": [
       "<AxesSubplot:xlabel='date'>"
      ]
     },
     "execution_count": 10,
     "metadata": {},
     "output_type": "execute_result"
    },
    {
     "data": {
      "image/png": "[encoded data removed]",
      "text/plain": [
       "<Figure size 432x288 with 1 Axes>"
      ]
     },
     "metadata": {
      "needs_background": "light"
     },
     "output_type": "display_data"
    }
   ],
   "source": [
    "authors = ['xeno-by', 'soc']\n",
    "file = 'src/compiler/scala/reflect/reify/phases/Calculate.scala'\n",
    "\n",
    "# Select the pull requests submitted by the authors, from the `data` DataFrame\n",
    "by_author = data[data['user'].isin(authors)]\n",
    "print(by_author)\n",
    "\n",
    "# Select the pull requests that affect the file\n",
    "by_file = by_author[by_author['file'] == file]\n",
    "\n",
    "# Group and count the number of PRs done by each user each year\n",
    "grouped = by_file.groupby(['user', by_file['date'].dt.year]).count()['pid'].reset_index()\n",
    "print(grouped)\n",
    "\n",
    "# Transform the data into a wide format\n",
    "by_file_wide = grouped.pivot_table(index='date', columns='user', values='pid', fill_value=0)\n",
    "print(by_file_wide)\n",
    "\n",
    "# Plot the results\n",
    "by_file_wide.plot(kind='bar')"
   ]
  }
 ],
 "metadata": {
  "kernelspec": {
   "display_name": "Python 3.10.5 64-bit",
   "language": "python",
   "name": "python3"
  },
  "language_info": {
   "codemirror_mode": {
    "name": "ipython",
    "version": 3
   },
   "file_extension": ".py",
   "mimetype": "text/x-python",
   "name": "python",
   "nbconvert_exporter": "python",
   "pygments_lexer": "ipython3",
   "version": "3.10.5"
  },
  "vscode": {
   "interpreter": {
    "hash": "e97812e74baa8fc6381798f0d84dd522b344f7cf514a3d42112bfb92539d057b"
   }
  }
 },
 "nbformat": 4,
 "nbformat_minor": 5
}
